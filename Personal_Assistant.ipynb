{
  "nbformat": 4,
  "nbformat_minor": 0,
  "metadata": {
    "colab": {
      "provenance": [],
      "toc_visible": true
    },
    "kernelspec": {
      "name": "python3",
      "display_name": "Python 3"
    },
    "language_info": {
      "name": "python"
    }
  },
  "cells": [
    {
      "cell_type": "code",
      "execution_count": null,
      "metadata": {
        "id": "lDs_QMff9Fmu"
      },
      "outputs": [],
      "source": [
        "import pyttsx3\n",
        "import speech_recognition as sr\n",
        "import wikipedia as wiki\n",
        "import webbrowser\n",
        "import datetime\n",
        "import os \n",
        "\n",
        "engine=pyttsx3.init('sapi5')\n",
        "voice=engine.getProperty('voices')\n",
        "engine.setProperty('voice',voice[2].id)\n",
        "\n",
        "def speak(answer):\n",
        "    engine.say(answer)\n",
        "    engine.runAndWait()\n",
        "def take_command():\n",
        "    r=sr.Recognizer()\n",
        "    with sr.Microphone() as source:\n",
        "        print('listening..')\n",
        "        r.pause_threshold=0.8\n",
        "        audio=r.listen(source)\n",
        "    try:\n",
        "        print('recognising..')\n",
        "        audio=r.recognize(audio)\n",
        "        print('user said:',audio)\n",
        "    except: \n",
        "        revert='please say that again'\n",
        "        print(revert)\n",
        "        speak(revert)\n",
        "        return 'None'\n",
        "    return audio\n",
        "def wish():\n",
        "    time=datetime.datetime.now().hour\n",
        "    if(time>=0 or time<12):\n",
        "        speak('good morning sir')\n",
        "    elif(time>=12 or time<4):\n",
        "        speak('good afternoon sir')\n",
        "    else: speak('good night sir')\n",
        "    print(time)\n",
        "wish()\n",
        "speak('hello sir, this is your personal assistant')\n",
        "speak('how can i help you')\n",
        "while(True):\n",
        "    query=take_command().lower()\n",
        "    if('wikipedia' in query):\n",
        "        speak('searching')\n",
        "        query.replace('wikipedia',\"\")\n",
        "        results=wiki.summary(query,sentences=2)\n",
        "        speak('according to wikipedia')\n",
        "        print(results)\n",
        "        speak(results)\n",
        "    elif('google' in query):\n",
        "        webbrowser.open('google.com')\n",
        "    elif('youtube' in query):\n",
        "        webbrowser.open('youtube.com')\n",
        "    # elif('insta' in query):\n",
        "    #     from insta_automation import*\n",
        "    # elif('amazon' in query):\n",
        "    #     from amazon_automation import*\n",
        "    elif('command' in query):\n",
        "        os.system('start cmd')\n",
        "    elif('calender' in query):\n",
        "        webbrowser.open('calender.com')\n",
        "    elif('time' in query):\n",
        "        timenow=datetime.datetime.now()\n",
        "        speak(f'time is {timenow}')\n",
        "        print(timenow)\n",
        "    if(query=='no thanks'):\n",
        "        speak('Thank you for using me , have a great day')\n",
        "        break"
      ]
    }
  ]
}